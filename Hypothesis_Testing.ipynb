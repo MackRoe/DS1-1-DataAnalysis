{
 "cells": [
  {
   "cell_type": "code",
   "execution_count": 3,
   "metadata": {},
   "outputs": [],
   "source": [
    "import pandas as pd\n",
    "import numpy as np\n",
    "import seaborn as sns"
   ]
  },
  {
   "cell_type": "markdown",
   "metadata": {},
   "source": [
    "## Review of Z distribution, CDF and SF"
   ]
  },
  {
   "cell_type": "code",
   "execution_count": 7,
   "metadata": {},
   "outputs": [
    {
     "data": {
      "text/plain": [
       "<matplotlib.axes._subplots.AxesSubplot at 0x11c0d3b90>"
      ]
     },
     "execution_count": 7,
     "metadata": {},
     "output_type": "execute_result"
    },
    {
     "data": {
      "image/png": "[encoded data removed]",
      "text/plain": [
       "<Figure size 432x288 with 1 Axes>"
      ]
     },
     "metadata": {
      "needs_background": "light"
     },
     "output_type": "display_data"
    }
   ],
   "source": [
    "mean = 60\n",
    "sigma = 10\n",
    "X = np.random.normal(mean, sigma, 10000)\n",
    "Z = (X - mean)/sigma\n",
    "\n",
    "sns.distplot(Z, hist=True, kde=True, bins=20)"
   ]
  },
  {
   "cell_type": "markdown",
   "metadata": {},
   "source": [
    "## Null hypothesis drug example on rat"
   ]
  },
  {
   "cell_type": "code",
   "execution_count": 11,
   "metadata": {},
   "outputs": [
    {
     "name": "stdout",
     "output_type": "stream",
     "text": [
      "reject null hypothesis\n"
     ]
    }
   ],
   "source": [
    "from scipy.stats import norm\n",
    "\n",
    "# pop mean for A\n",
    "mu = 1.2\n",
    "# standard deviation (std) for Scenario A\n",
    "sigma = 0.5\n",
    "# statistical significance\n",
    "alpha = 0.05\n",
    "# sample mean for B\n",
    "xbar = 1.05\n",
    "# number of samples for B\n",
    "N = 100\n",
    "# sample STD of B (unknown)\n",
    "# S = ?\n",
    "\n",
    "def accept_or_reject_null_hypothesis(mu, sample_mean, significant_level, N, sigma):\n",
    "    # Calculate standard deviation of the sampling distribution\n",
    "    sample_std = sigma / np.sqrt(N)\n",
    "    \n",
    "    # Calculate z-score from population mean (mu), sample mean and sample std\n",
    "    z = (sample_mean - mu) / sample_std\n",
    "    \n",
    "    # Calculate p-value from z-score\n",
    "    p_value = 2 * norm.cdf(-np.abs(z))\n",
    "    \n",
    "    # Determine whether to accept or reject null hypothesis\n",
    "    if p_value < significant_level:\n",
    "        print('reject null hypothesis')\n",
    "    else:\n",
    "        print('accept null hypothesis')\n",
    "        \n",
    "accept_or_reject_null_hypothesis(mu, xbar, alpha, N, sigma)"
   ]
  },
  {
   "cell_type": "markdown",
   "metadata": {},
   "source": [
    "## T-test Activity"
   ]
  },
  {
   "cell_type": "markdown",
   "metadata": {},
   "source": [
    "> because sigma is unknown, alternative method should be used"
   ]
  },
  {
   "cell_type": "code",
   "execution_count": 12,
   "metadata": {},
   "outputs": [
    {
     "name": "stdout",
     "output_type": "stream",
     "text": [
      "t-statistic:  2.295568968083183\n",
      "t =  2.295568968083183 , p =  0.04734137339747034\n"
     ]
    }
   ],
   "source": [
    "from scipy import stats\n",
    "\n",
    "x = [177.3, 182.7, 169.6, 176.3, 180.3, 179.4, 178.5, 177.2, 181.8, 176.5]\n",
    "mu = 175.3\n",
    "sample_mean = np.array(x).mean()\n",
    "\n",
    "# Calculate the standard deviation of sample distribution\n",
    "\n",
    "N = len(x) # number of data samples\n",
    "S = np.array(x).std(ddof=1)\n",
    "den = S /np.sqrt(N)\n",
    "\n",
    "# t-test from formula\n",
    "t = (sample_mean - mu)/den\n",
    "print(\"t-statistic: \",t)\n",
    "\n",
    "# one sample t-test that gives you the p-value too can be done with scipy as follows:\n",
    "t, p = stats.ttest_1samp(x, mu)\n",
    "print(\"t = \", t, \", p = \", p)"
   ]
  },
  {
   "cell_type": "code",
   "execution_count": null,
   "metadata": {},
   "outputs": [],
   "source": []
  },
  {
   "cell_type": "code",
   "execution_count": 17,
   "metadata": {},
   "outputs": [
    {
     "name": "stdout",
     "output_type": "stream",
     "text": [
      "reject null hypothesis\n"
     ]
    }
   ],
   "source": [
    "import scipy\n",
    "\n",
    "# pop mean for A\n",
    "mu = 1.2\n",
    "# standard deviation (std) for Scenario A\n",
    "sigma = 0.5\n",
    "# statistical significance\n",
    "alpha = 0.05\n",
    "# sample mean for B\n",
    "xbar = 1.05\n",
    "# number of samples for B\n",
    "N = 100\n",
    "# sample STD of B (unknown)\n",
    "# S = ?\n",
    "\n",
    "def z_t_null_hypothesis(data_sample, mu, sigma, significant_level):\n",
    "    # If sigma is known, calculate using the z-test\n",
    "    if sigma:\n",
    "        z_score = (np.mean(data_sample)-mu)/(sigma/np.sqrt(data_sample)) # remove len()\n",
    "        p = scipy.stats.norm.sf(abs(z_score))*2\n",
    "    # If the data_sample is greater than 30, calculate using the z-test\n",
    "    elif len(data_sample) > 30:\n",
    "        z_score = (np.mean(data_sample)-mu)/(np.std(data_sample)/np.sqrt(data_sample))  # remove len()\n",
    "        p = scipy.stats.norm.sf(abs(z_score))*2\n",
    "    # otherwise, calculate using the t-test\n",
    "    else:\n",
    "        t, p = stats.ttest_1samp(data_sample, mu)\n",
    "\n",
    "    if p < significant_level:\n",
    "        print('reject null hypothesis')\n",
    "        \n",
    "    else:\n",
    "        print('accept null hypothesis')\n",
    "        \n",
    "# TODO: add\n",
    "z_t_null_hypothesis(N, mu, sigma, alpha)"
   ]
  },
  {
   "cell_type": "code",
   "execution_count": null,
   "metadata": {},
   "outputs": [],
   "source": []
  }
 ],
 "metadata": {
  "kernelspec": {
   "display_name": "Python 3",
   "language": "python",
   "name": "python3"
  },
  "language_info": {
   "codemirror_mode": {
    "name": "ipython",
    "version": 3
   },
   "file_extension": ".py",
   "mimetype": "text/x-python",
   "name": "python",
   "nbconvert_exporter": "python",
   "pygments_lexer": "ipython3",
   "version": "3.7.4"
  }
 },
 "nbformat": 4,
 "nbformat_minor": 4
}
